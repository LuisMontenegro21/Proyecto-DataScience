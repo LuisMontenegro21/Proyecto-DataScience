{
 "cells": [
  {
   "cell_type": "markdown",
   "id": "0894d108",
   "metadata": {},
   "source": [
    "# Primera entrega\n",
    "\n",
    "## Limpieza de datos\n",
    "En esta entrega se hará una recolección y limpieza de datos solamente. No habrá modelado ni análisis. \n",
    "<br>Solamente velar por la integridad, coherencia y cohesión del conjunto de datos. Se realizará una transformación de formato inicial de archivos html disfrazados de .xls a archivos .csv para mayor facilidad de manejo."
   ]
  },
  {
   "cell_type": "code",
   "execution_count": null,
   "id": "9ff6290c",
   "metadata": {},
   "outputs": [],
   "source": [
    "# !pip install -r requirements.txt"
   ]
  },
  {
   "cell_type": "code",
   "execution_count": 1,
   "id": "fa43cd89",
   "metadata": {},
   "outputs": [],
   "source": [
    "import numpy as np\n",
    "import pandas as pd\n",
    "import os\n",
    "from tqdm import tqdm"
   ]
  },
  {
   "cell_type": "code",
   "execution_count": 17,
   "id": "456d91fc",
   "metadata": {},
   "outputs": [],
   "source": [
    "def transform_html_to_csv(input_path: str, output_path: str=None, tables_to_convert: list[int] = [9]) -> None:\n",
    "    '''\n",
    "    Turns .html files into .csv files\n",
    "\n",
    "    Params:\n",
    "        input_path: where the .html files are stored\n",
    "        output_path: where the .csv will be stored\n",
    "    Returns:\n",
    "        out: None\n",
    "    '''\n",
    "    if output_path is None:\n",
    "        output_path = input_path \n",
    "    else:\n",
    "        os.makedirs(output_path, exist_ok=True)\n",
    "\n",
    "    for filename in tqdm(os.listdir(input_path), desc='Converting Files'):\n",
    "        if filename.endswith('.xls'):\n",
    "            html_path:str = os.path.join(input_path, filename)\n",
    "            base_name:str = os.path.splitext(filename)[0]\n",
    "            # try to read the excel and copy it into a .csv file\n",
    "            try: \n",
    "                tables:list[pd.DataFrame] = pd.read_html(html_path)\n",
    "                # if no tables, skip\n",
    "                if not tables:\n",
    "                    print(f\"No tables found in '{filename}'\")\n",
    "                    continue\n",
    "\n",
    "                # convert each of the tables selected to .csv\n",
    "                for i, df in enumerate(tables):\n",
    "                    if i in tables_to_convert:\n",
    "                        csv_filename = f\"{base_name}_table{i}.csv\"\n",
    "                        csv_path = os.path.join(output_path, csv_filename)\n",
    "                        df.to_csv(csv_path, index=False)\n",
    "                        print(f\"Converted '{filename}' to '{csv_filename}'\") # print all of the transformations of the .xls to its respective .csv files\n",
    "                    \n",
    "            except Exception as e:\n",
    "                print(f\"Error processing file '{filename}' : {e}\")\n",
    "\n",
    "def remove_files(path: str, extension: str) -> None:\n",
    "    '''\n",
    "    Removes all files that have a certain extension\n",
    "    Input:\n",
    "        path: folder path where .xls to be removed are stored\n",
    "    '''\n",
    "    for filename in os.listdir(path):\n",
    "        if filename.endswith(extension):\n",
    "            try:\n",
    "                xls_path = os.path.join(path, filename)\n",
    "                os.remove(xls_path)\n",
    "            except Exception as e:\n",
    "                print(f\"Error removing file '{filename}' : {e}\")\n"
   ]
  },
  {
   "cell_type": "code",
   "execution_count": 18,
   "id": "f249f5f7",
   "metadata": {},
   "outputs": [
    {
     "name": "stderr",
     "output_type": "stream",
     "text": [
      "Converting Files:   7%|▋         | 3/44 [00:00<00:01, 25.11it/s]"
     ]
    },
    {
     "name": "stdout",
     "output_type": "stream",
     "text": [
      "Converted 'alta_verapaz_basico.xls' to 'alta_verapaz_basico_table9.csv'\n",
      "Converted 'alta_verapaz_diversificado.xls' to 'alta_verapaz_diversificado_table9.csv'\n",
      "Converted 'baja_verapaz_basico.xls' to 'baja_verapaz_basico_table9.csv'\n",
      "Converted 'baja_verapaz_diversificado.xls' to 'baja_verapaz_diversificado_table9.csv'\n",
      "Converted 'chimaltenango_basico.xls' to 'chimaltenango_basico_table9.csv'\n",
      "Converted 'chimaltenango_diversificado.xls' to 'chimaltenango_diversificado_table9.csv'\n",
      "Converted 'chiquimula_basico.xls' to 'chiquimula_basico_table9.csv'\n"
     ]
    },
    {
     "name": "stderr",
     "output_type": "stream",
     "text": [
      "Converting Files:  25%|██▌       | 11/44 [00:00<00:00, 33.44it/s]"
     ]
    },
    {
     "name": "stdout",
     "output_type": "stream",
     "text": [
      "Converted 'chiquimula_diversificado.xls' to 'chiquimula_diversificado_table9.csv'\n",
      "Converted 'el_progreso_basico.xls' to 'el_progreso_basico_table9.csv'\n",
      "Converted 'el_progreso_diversificado.xls' to 'el_progreso_diversificado_table9.csv'\n",
      "Converted 'escuintla_basico.xls' to 'escuintla_basico_table9.csv'\n",
      "Converted 'escuintla_diversificado.xls' to 'escuintla_diversificado_table9.csv'\n"
     ]
    },
    {
     "name": "stderr",
     "output_type": "stream",
     "text": [
      "Converting Files:  34%|███▍      | 15/44 [00:00<00:01, 18.74it/s]"
     ]
    },
    {
     "name": "stdout",
     "output_type": "stream",
     "text": [
      "Converted 'guatemala_basico.xls' to 'guatemala_basico_table9.csv'\n",
      "Converted 'guatemala_diversificado.xls' to 'guatemala_diversificado_table9.csv'\n",
      "Converted 'huehuetenango_basico.xls' to 'huehuetenango_basico_table9.csv'\n",
      "Converted 'huehuetenango_diversificado.xls' to 'huehuetenango_diversificado_table9.csv'\n"
     ]
    },
    {
     "name": "stderr",
     "output_type": "stream",
     "text": [
      "Converting Files:  50%|█████     | 22/44 [00:00<00:00, 24.32it/s]"
     ]
    },
    {
     "name": "stdout",
     "output_type": "stream",
     "text": [
      "Converted 'izabal_basico.xls' to 'izabal_basico_table9.csv'\n",
      "Converted 'izabal_diversificado.xls' to 'izabal_diversificado_table9.csv'\n",
      "Converted 'jalapa_basico.xls' to 'jalapa_basico_table9.csv'\n",
      "Converted 'jalapa_diversificado.xls' to 'jalapa_diversificado_table9.csv'\n",
      "Converted 'jutiapa_basico.xls' to 'jutiapa_basico_table9.csv'\n",
      "Converted 'jutiapa_diversificado.xls' to 'jutiapa_diversificado_table9.csv'\n",
      "Converted 'peten_basico.xls' to 'peten_basico_table9.csv'\n"
     ]
    },
    {
     "name": "stderr",
     "output_type": "stream",
     "text": [
      "Converting Files:  64%|██████▎   | 28/44 [00:01<00:00, 24.59it/s]"
     ]
    },
    {
     "name": "stdout",
     "output_type": "stream",
     "text": [
      "Converted 'peten_diversificado.xls' to 'peten_diversificado_table9.csv'\n",
      "Converted 'quetzaltenango_basico.xls' to 'quetzaltenango_basico_table9.csv'\n",
      "Converted 'quetzaltenango_diversificado.xls' to 'quetzaltenango_diversificado_table9.csv'\n",
      "Converted 'quiche_basico.xls' to 'quiche_basico_table9.csv'\n",
      "Converted 'quiche_diversificado.xls' to 'quiche_diversificado_table9.csv'\n"
     ]
    },
    {
     "name": "stderr",
     "output_type": "stream",
     "text": [
      "Converting Files:  70%|███████   | 31/44 [00:01<00:00, 25.36it/s]"
     ]
    },
    {
     "name": "stdout",
     "output_type": "stream",
     "text": [
      "Converted 'retalhuleu_basico.xls' to 'retalhuleu_basico_table9.csv'\n",
      "Converted 'retalhuleu_diversificado.xls' to 'retalhuleu_diversificado_table9.csv'\n",
      "Converted 'sacatepequez_basico.xls' to 'sacatepequez_basico_table9.csv'\n",
      "Converted 'sacatepequez_diversificado.xls' to 'sacatepequez_diversificado_table9.csv'\n",
      "Converted 'santa_rosa_basico.xls' to 'santa_rosa_basico_table9.csv'\n",
      "Converted 'santa_rosa_diversificado.xls' to 'santa_rosa_diversificado_table9.csv'\n"
     ]
    },
    {
     "name": "stderr",
     "output_type": "stream",
     "text": [
      "Converting Files:  89%|████████▊ | 39/44 [00:01<00:00, 27.69it/s]"
     ]
    },
    {
     "name": "stdout",
     "output_type": "stream",
     "text": [
      "Converted 'san_marcos_basico.xls' to 'san_marcos_basico_table9.csv'\n",
      "Converted 'san_marcos_diversificado.xls' to 'san_marcos_diversificado_table9.csv'\n",
      "Converted 'solola_basico.xls' to 'solola_basico_table9.csv'\n",
      "Converted 'solola_diversificado.xls' to 'solola_diversificado_table9.csv'\n",
      "Converted 'suchitepequez_basico.xls' to 'suchitepequez_basico_table9.csv'\n",
      "Converted 'suchitepequez_diversificado.xls' to 'suchitepequez_diversificado_table9.csv'\n",
      "Converted 'totonicapan_basico.xls' to 'totonicapan_basico_table9.csv'\n",
      "Converted 'totonicapan_diversificado.xls' to 'totonicapan_diversificado_table9.csv'\n"
     ]
    },
    {
     "name": "stderr",
     "output_type": "stream",
     "text": [
      "Converting Files: 100%|██████████| 44/44 [00:01<00:00, 26.50it/s]"
     ]
    },
    {
     "name": "stdout",
     "output_type": "stream",
     "text": [
      "Converted 'zacapa_basico.xls' to 'zacapa_basico_table9.csv'\n",
      "Converted 'zacapa_diversificado.xls' to 'zacapa_diversificado_table9.csv'\n"
     ]
    },
    {
     "name": "stderr",
     "output_type": "stream",
     "text": [
      "\n"
     ]
    }
   ],
   "source": [
    "# start by turning .xls files to .csv files\n",
    "transform_html_to_csv(input_path=\"../Dataset_raw\", output_path=\"../Dataset_cleaned\", tables_to_convert=[9])"
   ]
  },
  {
   "cell_type": "code",
   "execution_count": null,
   "id": "b81a4e90",
   "metadata": {},
   "outputs": [],
   "source": [
    "# remove .xls files \n",
    "# remove_files(path=\"../Dataset_raw\", extension='.xls')"
   ]
  }
 ],
 "metadata": {
  "kernelspec": {
   "display_name": "my-env",
   "language": "python",
   "name": "python3"
  },
  "language_info": {
   "codemirror_mode": {
    "name": "ipython",
    "version": 3
   },
   "file_extension": ".py",
   "mimetype": "text/x-python",
   "name": "python",
   "nbconvert_exporter": "python",
   "pygments_lexer": "ipython3",
   "version": "3.12.4"
  }
 },
 "nbformat": 4,
 "nbformat_minor": 5
}
