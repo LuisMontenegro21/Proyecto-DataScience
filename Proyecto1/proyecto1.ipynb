{
 "cells": [
  {
   "cell_type": "markdown",
   "id": "0894d108",
   "metadata": {},
   "source": [
    "# Primera entrega\n",
    "Luis Pedro Montenegro - 21699\n",
    "\n",
    "\n",
    "## Limpieza de datos\n",
    "En esta entrega se hará una recolección y limpieza de datos solamente. No habrá modelado ni análisis. \n",
    "<br>Solamente velar por la integridad, coherencia y cohesión del conjunto de datos.facilidad de manejo."
   ]
  },
  {
   "cell_type": "code",
   "execution_count": null,
   "id": "9ff6290c",
   "metadata": {},
   "outputs": [],
   "source": [
    "# !pip install -r requirements.txt"
   ]
  },
  {
   "cell_type": "code",
   "execution_count": 1,
   "id": "fa43cd89",
   "metadata": {},
   "outputs": [],
   "source": [
    "import numpy as np\n",
    "import pandas as pd\n",
    "import os\n",
    "from tqdm import tqdm"
   ]
  },
  {
   "cell_type": "markdown",
   "id": "38a3fcc9",
   "metadata": {},
   "source": [
    "### Conversión de .xls a .csv\n",
    "\n",
    "Debido a que los archivos crudos descargados desde la página del Mineduc vienen en formato .xls formateado como .html tenemos que hacer cambio de eso.<br>\n",
    "Esto por múltiples razones:\n",
    "- Mejorar la estructura de los datos.\n",
    "- Preservar solamente la información requerida (los .xls almaceban más páginas e información irrelevante)\n",
    "- Mayor falicidad de usar y obtener los datos si están en formato delimitado por comas.\n",
    "- Tener datos más ligeros ya que no acarreamos con mucha información innecesaria. "
   ]
  },
  {
   "cell_type": "code",
   "execution_count": 11,
   "id": "456d91fc",
   "metadata": {},
   "outputs": [],
   "source": [
    "def transform_html_to_csv(input_path: str, output_path: str=None, tables_to_convert: list[int] = [9]) -> None:\n",
    "    '''\n",
    "    Turns .html files into .csv files\n",
    "\n",
    "    Params:\n",
    "        input_path: where the .html files are stored\n",
    "        output_path: where the .csv will be stored\n",
    "    Returns:\n",
    "        out: None\n",
    "    '''\n",
    "    if output_path is None:\n",
    "        output_path = input_path \n",
    "    else:\n",
    "        os.makedirs(output_path, exist_ok=True)\n",
    "\n",
    "    for filename in tqdm(os.listdir(input_path), desc='Converting Files'):\n",
    "        if filename.endswith('.xls'):\n",
    "            html_path:str = os.path.join(input_path, filename)\n",
    "            base_name:str = os.path.splitext(filename)[0]\n",
    "            # try to read the excel and copy it into a .csv file\n",
    "            try: \n",
    "                tables:list[pd.DataFrame] = pd.read_html(html_path)\n",
    "                # if no tables, skip\n",
    "                if not tables:\n",
    "                    print(f\"No tables found in '{filename}'\")\n",
    "                    continue\n",
    "\n",
    "                # convert each of the tables selected to .csv\n",
    "                for i, df in enumerate(tables):\n",
    "                    if i in tables_to_convert:\n",
    "                        csv_filename = f\"{base_name}_table{i}.csv\"\n",
    "                        csv_path = os.path.join(output_path, csv_filename)\n",
    "                        df.to_csv(csv_path, index=False)\n",
    "                        print(f\"Converted '{filename}' to '{csv_filename}'\") # print all of the transformations of the .xls to its respective .csv files\n",
    "                    \n",
    "            except Exception as e:\n",
    "                print(f\"Error processing file '{filename}' : {e}\")\n",
    "\n",
    "def remove_files(path: str, extension: str) -> None:\n",
    "    '''\n",
    "    Removes all files that have a certain extension\n",
    "    Input:\n",
    "        path: folder path where .xls to be removed are stored\n",
    "    '''\n",
    "    file_list: list[str] = os.listdir(path)\n",
    "    if not file_list:\n",
    "        print(f\"No files removed since there was none found: '{path}'\")\n",
    "        return\n",
    "\n",
    "    for filename in file_list:\n",
    "    \n",
    "        if filename.endswith(extension):\n",
    "            try:\n",
    "                xls_path = os.path.join(path, filename)\n",
    "                os.remove(xls_path)\n",
    "            except Exception as e:\n",
    "                print(f\"Error removing file '{filename}' : {e}\")\n"
   ]
  },
  {
   "cell_type": "code",
   "execution_count": 5,
   "id": "f249f5f7",
   "metadata": {},
   "outputs": [
    {
     "name": "stderr",
     "output_type": "stream",
     "text": [
      "Converting Files:   2%|▏         | 1/41 [00:00<00:14,  2.83it/s]"
     ]
    },
    {
     "name": "stdout",
     "output_type": "stream",
     "text": [
      "Converted 'alta_verapaz_preprimaria.xls' to 'alta_verapaz_preprimaria_table9.csv'\n"
     ]
    },
    {
     "name": "stderr",
     "output_type": "stream",
     "text": [
      "Converting Files:   7%|▋         | 3/41 [00:00<00:11,  3.36it/s]"
     ]
    },
    {
     "name": "stdout",
     "output_type": "stream",
     "text": [
      "Converted 'alta_verapaz_primaria.xls' to 'alta_verapaz_primaria_table9.csv'\n",
      "Converted 'baja_verapaz_preprimaria.xls' to 'baja_verapaz_preprimaria_table9.csv'\n"
     ]
    },
    {
     "name": "stderr",
     "output_type": "stream",
     "text": [
      "Converting Files:  12%|█▏        | 5/41 [00:01<00:07,  4.63it/s]"
     ]
    },
    {
     "name": "stdout",
     "output_type": "stream",
     "text": [
      "Converted 'baja_verapaz_primaria.xls' to 'baja_verapaz_primaria_table9.csv'\n",
      "Converted 'chimaltenango_preprimaria.xls' to 'chimaltenango_preprimaria_table9.csv'\n"
     ]
    },
    {
     "name": "stderr",
     "output_type": "stream",
     "text": [
      "Converting Files:  15%|█▍        | 6/41 [00:01<00:07,  4.70it/s]"
     ]
    },
    {
     "name": "stdout",
     "output_type": "stream",
     "text": [
      "Converted 'chimaltenango_primaria.xls' to 'chimaltenango_primaria_table9.csv'\n",
      "Converted 'chiquimula_preprimaria.xls' to 'chiquimula_preprimaria_table9.csv'\n"
     ]
    },
    {
     "name": "stderr",
     "output_type": "stream",
     "text": [
      "Converting Files:  20%|█▉        | 8/41 [00:01<00:06,  4.88it/s]"
     ]
    },
    {
     "name": "stdout",
     "output_type": "stream",
     "text": [
      "Converted 'chiquimula_primaria.xls' to 'chiquimula_primaria_table9.csv'\n",
      "Converted 'el_progreso_primaria.xls' to 'el_progreso_primaria_table9.csv'\n"
     ]
    },
    {
     "name": "stderr",
     "output_type": "stream",
     "text": [
      "Converting Files:  24%|██▍       | 10/41 [00:02<00:05,  5.83it/s]"
     ]
    },
    {
     "name": "stdout",
     "output_type": "stream",
     "text": [
      "Converted 'escuintla_primaria.xls' to 'escuintla_primaria_table9.csv'\n",
      "Converted 'guatemala_preprimaria.xls' to 'guatemala_preprimaria_table9.csv'\n"
     ]
    },
    {
     "name": "stderr",
     "output_type": "stream",
     "text": [
      "Converting Files:  29%|██▉       | 12/41 [00:02<00:04,  5.91it/s]"
     ]
    },
    {
     "name": "stdout",
     "output_type": "stream",
     "text": [
      "Converted 'guatemala_primaria.xls' to 'guatemala_primaria_table9.csv'\n",
      "Converted 'huehuetenango_preprimaria.xls' to 'huehuetenango_preprimaria_table9.csv'\n"
     ]
    },
    {
     "name": "stderr",
     "output_type": "stream",
     "text": [
      "Converting Files:  34%|███▍      | 14/41 [00:02<00:05,  5.04it/s]"
     ]
    },
    {
     "name": "stdout",
     "output_type": "stream",
     "text": [
      "Converted 'huehuetenango_primaria.xls' to 'huehuetenango_primaria_table9.csv'\n",
      "Converted 'izabal_preprimaria.xls' to 'izabal_preprimaria_table9.csv'\n"
     ]
    },
    {
     "name": "stderr",
     "output_type": "stream",
     "text": [
      "Converting Files:  39%|███▉      | 16/41 [00:03<00:04,  5.88it/s]"
     ]
    },
    {
     "name": "stdout",
     "output_type": "stream",
     "text": [
      "Converted 'izabal_primaria.xls' to 'izabal_primaria_table9.csv'\n",
      "Converted 'jalapa_preprimaria.xls' to 'jalapa_preprimaria_table9.csv'\n",
      "Converted 'jalapa_primaria.xls' to 'jalapa_primaria_table9.csv'\n"
     ]
    },
    {
     "name": "stderr",
     "output_type": "stream",
     "text": [
      "Converting Files:  49%|████▉     | 20/41 [00:03<00:02,  7.37it/s]"
     ]
    },
    {
     "name": "stdout",
     "output_type": "stream",
     "text": [
      "Converted 'jutiapa_preprimaria.xls' to 'jutiapa_preprimaria_table9.csv'\n",
      "Converted 'jutiapa_primaria.xls' to 'jutiapa_primaria_table9.csv'\n",
      "Converted 'peten_preprimaria.xls' to 'peten_preprimaria_table9.csv'\n"
     ]
    },
    {
     "name": "stderr",
     "output_type": "stream",
     "text": [
      "Converting Files:  54%|█████▎    | 22/41 [00:03<00:02,  7.62it/s]"
     ]
    },
    {
     "name": "stdout",
     "output_type": "stream",
     "text": [
      "Converted 'peten_primaria.xls' to 'peten_primaria_table9.csv'\n",
      "Converted 'quetzaltenango_preprimaria.xls' to 'quetzaltenango_preprimaria_table9.csv'\n"
     ]
    },
    {
     "name": "stderr",
     "output_type": "stream",
     "text": [
      "Converting Files:  61%|██████    | 25/41 [00:04<00:01,  8.02it/s]"
     ]
    },
    {
     "name": "stdout",
     "output_type": "stream",
     "text": [
      "Converted 'quetzaltenango_primaria.xls' to 'quetzaltenango_primaria_table9.csv'\n",
      "Converted 'quiche_preprimaria.xls' to 'quiche_preprimaria_table9.csv'\n"
     ]
    },
    {
     "name": "stderr",
     "output_type": "stream",
     "text": [
      "Converting Files:  68%|██████▊   | 28/41 [00:04<00:01,  8.05it/s]"
     ]
    },
    {
     "name": "stdout",
     "output_type": "stream",
     "text": [
      "Converted 'quiche_primaria.xls' to 'quiche_primaria_table9.csv'\n",
      "Converted 'retalhuleu_preprimaria.xls' to 'retalhuleu_preprimaria_table9.csv'\n",
      "Converted 'retalhuleu_primaria.xls' to 'retalhuleu_primaria_table9.csv'\n"
     ]
    },
    {
     "name": "stderr",
     "output_type": "stream",
     "text": [
      "Converting Files:  73%|███████▎  | 30/41 [00:04<00:01,  9.16it/s]"
     ]
    },
    {
     "name": "stdout",
     "output_type": "stream",
     "text": [
      "Converted 'sacatepequez_preprimaria.xls' to 'sacatepequez_preprimaria_table9.csv'\n",
      "Converted 'sacatepequez_primaria.xls' to 'sacatepequez_primaria_table9.csv'\n",
      "Converted 'santa_rosa_preprimaria.xls' to 'santa_rosa_preprimaria_table9.csv'\n"
     ]
    },
    {
     "name": "stderr",
     "output_type": "stream",
     "text": [
      "Converting Files:  80%|████████  | 33/41 [00:05<00:00,  9.58it/s]"
     ]
    },
    {
     "name": "stdout",
     "output_type": "stream",
     "text": [
      "Converted 'santa_rosa_primaria.xls' to 'santa_rosa_primaria_table9.csv'\n",
      "Converted 'san_marcos_preprimaria.xls' to 'san_marcos_preprimaria_table9.csv'\n"
     ]
    },
    {
     "name": "stderr",
     "output_type": "stream",
     "text": [
      "Converting Files:  85%|████████▌ | 35/41 [00:05<00:00,  7.30it/s]"
     ]
    },
    {
     "name": "stdout",
     "output_type": "stream",
     "text": [
      "Converted 'san_marcos_primaria.xls' to 'san_marcos_primaria_table9.csv'\n",
      "Converted 'solola_preprimaria.xls' to 'solola_preprimaria_table9.csv'\n"
     ]
    },
    {
     "name": "stderr",
     "output_type": "stream",
     "text": [
      "Converting Files:  88%|████████▊ | 36/41 [00:05<00:00,  7.43it/s]"
     ]
    },
    {
     "name": "stdout",
     "output_type": "stream",
     "text": [
      "Converted 'solola_primaria.xls' to 'solola_primaria_table9.csv'\n",
      "Converted 'suchitepequez_preprimaria.xls' to 'suchitepequez_preprimaria_table9.csv'\n",
      "Converted 'suchitepequez_primaria.xls' to 'suchitepequez_primaria_table9.csv'\n"
     ]
    },
    {
     "name": "stderr",
     "output_type": "stream",
     "text": [
      "Converting Files:  98%|█████████▊| 40/41 [00:06<00:00,  8.53it/s]"
     ]
    },
    {
     "name": "stdout",
     "output_type": "stream",
     "text": [
      "Converted 'totonicapan_preprimaria.xls' to 'totonicapan_preprimaria_table9.csv'\n",
      "Converted 'totonicapan_primaria.xls' to 'totonicapan_primaria_table9.csv'\n"
     ]
    },
    {
     "name": "stderr",
     "output_type": "stream",
     "text": [
      "Converting Files: 100%|██████████| 41/41 [00:06<00:00,  6.63it/s]"
     ]
    },
    {
     "name": "stdout",
     "output_type": "stream",
     "text": [
      "Converted 'zacapa_primaria.xls' to 'zacapa_primaria_table9.csv'\n"
     ]
    },
    {
     "name": "stderr",
     "output_type": "stream",
     "text": [
      "\n"
     ]
    }
   ],
   "source": [
    "# start by turning .xls files to .csv files\n",
    "transform_html_to_csv(input_path=\"../Dataset_raw\", output_path=\"../Dataset_cleaned\", tables_to_convert=[9])"
   ]
  },
  {
   "cell_type": "code",
   "execution_count": 10,
   "id": "b81a4e90",
   "metadata": {},
   "outputs": [
    {
     "name": "stdout",
     "output_type": "stream",
     "text": [
      "No files removed since there was none found: '../Dataset_raw'\n"
     ]
    }
   ],
   "source": [
    "# remove .xls files if necessary\n",
    "remove_files(path=\"../Dataset_raw\", extension='.xls')"
   ]
  },
  {
   "cell_type": "markdown",
   "id": "be7e543e",
   "metadata": {},
   "source": [
    "### Plan para limpieza de datos\n",
    "Posteriormente a la transformación de formato y filtración a solo datos crudos de nuestro interés, procederemos a limpiar los datos en sí. <br>\n",
    "1. Verificaremos si existe datos NA o Null en los archivos. Llenaremos los datos faltantes con datos artificiales ya que no podemos eliminar ningún registro <br>\n",
    "debido a que si eliminamos alguno, sería una sede faltante. Cosa que afectaría de gran manera el conjunto de datos.\n",
    "2. Homogenizaremos la información. Es decir, que todos los archivos tengan el mismo formato i.e. todos los nombres estén escritos igual, los apellidos que tienen tildes se escriban igual en cada archivo,\n",
    "que las palabras vengan o solo en mayúsculas, solo en minúsculas, etc.\n",
    "3. Identificaremos las columnas que más trabajo de reajuste necesiten.\n",
    "- Nombres (Supervisor, Director, Establecimiento, Sector): debido a que puede que exista apellidos iguales pero escritos distinto y eso genere problemas a la hora de verlos. Digamos, puede que Hernández aparezca con tilde en unos registros y en otros no. También es bueno verificar que estén escritos todos o en mayúsculas o en minúsculas (o todos iguales), ya que digamos, si tenemos Santa rosa en un registro y Santa Rosa en otro, a la hora de hacer un encoding estos resultarán con dos valores distintos. \n",
    "- Dirección: Asegurarnos que las direcciones lleven una estructura similar.\n",
    "- Códigos: Verificar que los códigos de los registros sean únicos y evitar tener repetidos.\n",
    "\n"
   ]
  },
  {
   "cell_type": "code",
   "execution_count": null,
   "id": "37e5db5b",
   "metadata": {},
   "outputs": [],
   "source": []
  }
 ],
 "metadata": {
  "kernelspec": {
   "display_name": "venv",
   "language": "python",
   "name": "python3"
  },
  "language_info": {
   "codemirror_mode": {
    "name": "ipython",
    "version": 3
   },
   "file_extension": ".py",
   "mimetype": "text/x-python",
   "name": "python",
   "nbconvert_exporter": "python",
   "pygments_lexer": "ipython3",
   "version": "3.12.4"
  }
 },
 "nbformat": 4,
 "nbformat_minor": 5
}
